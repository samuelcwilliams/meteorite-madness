{
 "cells": [
  {
   "cell_type": "markdown",
   "id": "15a038b8",
   "metadata": {},
   "source": [
    "# Data Anaysis with Python\n",
    "One important step when starting a new project is picking your tools. For the initial analysis, I plan to keep it simple by using the following tools:\n",
    "* `pandas`: Used to create Dataframes to manipulate the data easily\n",
    "* `numpy`: Used to create arrays to easily and quickly perform operations on specific columns\n",
    "* `matplotlib`: Used to create simple visualizations to get a feel for the data\n",
    "* `scikit-learn`: Used to create \"simple\" models based on given data"
   ]
  },
  {
   "cell_type": "code",
   "execution_count": 1,
   "id": "b3200ed0-71a6-459f-9b81-48c86919258b",
   "metadata": {},
   "outputs": [],
   "source": [
    "import pandas as pd\n",
    "import numpy as np\n",
    "import matplotlib.pyplot as plt\n",
    "from sklearn.model_selection import train_test_split\n",
    "from sklearn.svm import SVC\n",
    "from sklearn.metrics import accuracy_score\n",
    "\n",
    "# The lines are more of a personal preference rather than a tool.\n",
    "from IPython.core.interactiveshell import InteractiveShell\n",
    "InteractiveShell.ast_node_interactivity = \"all\"\n"
   ]
  },
  {
   "cell_type": "markdown",
   "id": "61ca7263",
   "metadata": {},
   "source": [
    "Here I start by reading in my dataset from a `.csv` file. I then used `df.head()` to verify that the data was properly loaded."
   ]
  },
  {
   "cell_type": "code",
   "execution_count": 2,
   "id": "d10e52ec-e84b-4deb-bea7-d3422a4581ef",
   "metadata": {
    "scrolled": true
   },
   "outputs": [
    {
     "data": {
      "text/html": [
       "<div>\n",
       "<style scoped>\n",
       "    .dataframe tbody tr th:only-of-type {\n",
       "        vertical-align: middle;\n",
       "    }\n",
       "\n",
       "    .dataframe tbody tr th {\n",
       "        vertical-align: top;\n",
       "    }\n",
       "\n",
       "    .dataframe thead th {\n",
       "        text-align: right;\n",
       "    }\n",
       "</style>\n",
       "<table border=\"1\" class=\"dataframe\">\n",
       "  <thead>\n",
       "    <tr style=\"text-align: right;\">\n",
       "      <th></th>\n",
       "      <th>name</th>\n",
       "      <th>id</th>\n",
       "      <th>nametype</th>\n",
       "      <th>recclass</th>\n",
       "      <th>mass (g)</th>\n",
       "      <th>fall</th>\n",
       "      <th>year</th>\n",
       "      <th>latitude</th>\n",
       "      <th>longitude</th>\n",
       "      <th>GeoLocation</th>\n",
       "    </tr>\n",
       "  </thead>\n",
       "  <tbody>\n",
       "    <tr>\n",
       "      <th>0</th>\n",
       "      <td>Aachen</td>\n",
       "      <td>1</td>\n",
       "      <td>Valid</td>\n",
       "      <td>L5</td>\n",
       "      <td>21.0</td>\n",
       "      <td>Fell</td>\n",
       "      <td>1880.0</td>\n",
       "      <td>50.77500</td>\n",
       "      <td>6.08333</td>\n",
       "      <td>(50.775, 6.08333)</td>\n",
       "    </tr>\n",
       "    <tr>\n",
       "      <th>1</th>\n",
       "      <td>Aarhus</td>\n",
       "      <td>2</td>\n",
       "      <td>Valid</td>\n",
       "      <td>H6</td>\n",
       "      <td>720.0</td>\n",
       "      <td>Fell</td>\n",
       "      <td>1951.0</td>\n",
       "      <td>56.18333</td>\n",
       "      <td>10.23333</td>\n",
       "      <td>(56.18333, 10.23333)</td>\n",
       "    </tr>\n",
       "    <tr>\n",
       "      <th>2</th>\n",
       "      <td>Abee</td>\n",
       "      <td>6</td>\n",
       "      <td>Valid</td>\n",
       "      <td>EH4</td>\n",
       "      <td>107000.0</td>\n",
       "      <td>Fell</td>\n",
       "      <td>1952.0</td>\n",
       "      <td>54.21667</td>\n",
       "      <td>-113.00000</td>\n",
       "      <td>(54.21667, -113.0)</td>\n",
       "    </tr>\n",
       "    <tr>\n",
       "      <th>3</th>\n",
       "      <td>Acapulco</td>\n",
       "      <td>10</td>\n",
       "      <td>Valid</td>\n",
       "      <td>Acapulcoite</td>\n",
       "      <td>1914.0</td>\n",
       "      <td>Fell</td>\n",
       "      <td>1976.0</td>\n",
       "      <td>16.88333</td>\n",
       "      <td>-99.90000</td>\n",
       "      <td>(16.88333, -99.9)</td>\n",
       "    </tr>\n",
       "    <tr>\n",
       "      <th>4</th>\n",
       "      <td>Achiras</td>\n",
       "      <td>370</td>\n",
       "      <td>Valid</td>\n",
       "      <td>L6</td>\n",
       "      <td>780.0</td>\n",
       "      <td>Fell</td>\n",
       "      <td>1902.0</td>\n",
       "      <td>-33.16667</td>\n",
       "      <td>-64.95000</td>\n",
       "      <td>(-33.16667, -64.95)</td>\n",
       "    </tr>\n",
       "  </tbody>\n",
       "</table>\n",
       "</div>"
      ],
      "text/plain": [
       "       name   id nametype     recclass  mass (g)  fall    year  latitude  \\\n",
       "0    Aachen    1    Valid           L5      21.0  Fell  1880.0  50.77500   \n",
       "1    Aarhus    2    Valid           H6     720.0  Fell  1951.0  56.18333   \n",
       "2      Abee    6    Valid          EH4  107000.0  Fell  1952.0  54.21667   \n",
       "3  Acapulco   10    Valid  Acapulcoite    1914.0  Fell  1976.0  16.88333   \n",
       "4   Achiras  370    Valid           L6     780.0  Fell  1902.0 -33.16667   \n",
       "\n",
       "   longitude           GeoLocation  \n",
       "0    6.08333     (50.775, 6.08333)  \n",
       "1   10.23333  (56.18333, 10.23333)  \n",
       "2 -113.00000    (54.21667, -113.0)  \n",
       "3  -99.90000     (16.88333, -99.9)  \n",
       "4  -64.95000   (-33.16667, -64.95)  "
      ]
     },
     "execution_count": 2,
     "metadata": {},
     "output_type": "execute_result"
    }
   ],
   "source": [
    "df = pd.read_csv(\"Meteorite_Landings.csv\")\n",
    "df.head()"
   ]
  },
  {
   "cell_type": "markdown",
   "id": "9165218d",
   "metadata": {},
   "source": [
    "The first question that comes to mind about this dataset is how the data is spread over the years. My intuition tells me that there will be far less observations as the years go back, because older meteorites are generally discovered, rather than observed. \n",
    "\n",
    "To get a general idea, we can create a histogram based on the `year` column:"
   ]
  },
  {
   "cell_type": "code",
   "execution_count": 3,
   "id": "8528698f",
   "metadata": {},
   "outputs": [
    {
     "data": {
      "image/png": "[encoded data removed]",
      "text/plain": [
       "<Figure size 640x480 with 1 Axes>"
      ]
     },
     "metadata": {},
     "output_type": "display_data"
    }
   ],
   "source": [
    "plt.hist(df['year']);"
   ]
  },
  {
   "cell_type": "markdown",
   "id": "575eab0d",
   "metadata": {},
   "source": [
    "This visual does seem to go along with my theory. However, I think that this data could be better represented with more detail by using a bar plot. To do this, the data will have to be transformed slightly because bar plots represent categorical data. So, I'll need to create a new dataframe that contains the number of impacts each year. \n",
    "\n",
    "### Light Data Wrangling\n",
    "\n",
    "Initially, I created a dataframe from the output of the `value_counts` function, which automatically counts the occurences of each value in a given column. However, this didn't deliver quite what I was looking for, because in the resulting dataframe the `year` column served as the index rather than as an accessible column. However, this can be avoided by specifically referencing `counts.index` and `counts.values` as columns while creating the `occ` dataframe."
   ]
  },
  {
   "cell_type": "code",
   "execution_count": 4,
   "id": "2f8ac696",
   "metadata": {},
   "outputs": [
    {
     "data": {
      "text/html": [
       "<div>\n",
       "<style scoped>\n",
       "    .dataframe tbody tr th:only-of-type {\n",
       "        vertical-align: middle;\n",
       "    }\n",
       "\n",
       "    .dataframe tbody tr th {\n",
       "        vertical-align: top;\n",
       "    }\n",
       "\n",
       "    .dataframe thead th {\n",
       "        text-align: right;\n",
       "    }\n",
       "</style>\n",
       "<table border=\"1\" class=\"dataframe\">\n",
       "  <thead>\n",
       "    <tr style=\"text-align: right;\">\n",
       "      <th></th>\n",
       "      <th>year</th>\n",
       "      <th>impacts</th>\n",
       "    </tr>\n",
       "  </thead>\n",
       "  <tbody>\n",
       "    <tr>\n",
       "      <th>0</th>\n",
       "      <td>2003.0</td>\n",
       "      <td>3323</td>\n",
       "    </tr>\n",
       "    <tr>\n",
       "      <th>1</th>\n",
       "      <td>1979.0</td>\n",
       "      <td>3046</td>\n",
       "    </tr>\n",
       "    <tr>\n",
       "      <th>2</th>\n",
       "      <td>1998.0</td>\n",
       "      <td>2697</td>\n",
       "    </tr>\n",
       "    <tr>\n",
       "      <th>3</th>\n",
       "      <td>2006.0</td>\n",
       "      <td>2456</td>\n",
       "    </tr>\n",
       "    <tr>\n",
       "      <th>4</th>\n",
       "      <td>1988.0</td>\n",
       "      <td>2296</td>\n",
       "    </tr>\n",
       "    <tr>\n",
       "      <th>...</th>\n",
       "      <td>...</td>\n",
       "      <td>...</td>\n",
       "    </tr>\n",
       "    <tr>\n",
       "      <th>260</th>\n",
       "      <td>1741.0</td>\n",
       "      <td>1</td>\n",
       "    </tr>\n",
       "    <tr>\n",
       "      <th>261</th>\n",
       "      <td>1519.0</td>\n",
       "      <td>1</td>\n",
       "    </tr>\n",
       "    <tr>\n",
       "      <th>262</th>\n",
       "      <td>1671.0</td>\n",
       "      <td>1</td>\n",
       "    </tr>\n",
       "    <tr>\n",
       "      <th>263</th>\n",
       "      <td>1779.0</td>\n",
       "      <td>1</td>\n",
       "    </tr>\n",
       "    <tr>\n",
       "      <th>264</th>\n",
       "      <td>1792.0</td>\n",
       "      <td>1</td>\n",
       "    </tr>\n",
       "  </tbody>\n",
       "</table>\n",
       "<p>265 rows × 2 columns</p>\n",
       "</div>"
      ],
      "text/plain": [
       "       year  impacts\n",
       "0    2003.0     3323\n",
       "1    1979.0     3046\n",
       "2    1998.0     2697\n",
       "3    2006.0     2456\n",
       "4    1988.0     2296\n",
       "..      ...      ...\n",
       "260  1741.0        1\n",
       "261  1519.0        1\n",
       "262  1671.0        1\n",
       "263  1779.0        1\n",
       "264  1792.0        1\n",
       "\n",
       "[265 rows x 2 columns]"
      ]
     },
     "execution_count": 4,
     "metadata": {},
     "output_type": "execute_result"
    }
   ],
   "source": [
    "counts = df['year'].value_counts()\n",
    "occ = pd.DataFrame({'year': counts.index, 'impacts': counts.values})\n",
    "occ"
   ]
  },
  {
   "cell_type": "markdown",
   "id": "75794137",
   "metadata": {},
   "source": [
    "Now that we have a dataframe of occurences, we can plot the meteorites as a bar plot:"
   ]
  },
  {
   "cell_type": "code",
   "execution_count": 5,
   "id": "69e3d8ff",
   "metadata": {},
   "outputs": [
    {
     "data": {
      "image/png": "[encoded data removed]",
      "text/plain": [
       "<Figure size 640x480 with 1 Axes>"
      ]
     },
     "metadata": {},
     "output_type": "display_data"
    }
   ],
   "source": [
    "plt.bar(occ['year'], occ['impacts'])\n",
    "plt.xlabel('Year');\n",
    "plt.ylabel('Impacts');\n",
    "plt.title('Meteorite Impacts per Year');"
   ]
  },
  {
   "cell_type": "markdown",
   "id": "f8a5adcf",
   "metadata": {},
   "source": [
    "While this visualization is certainly more detailed, it is very hard to read. Perhaps by further refining our dataset to only contain impact occurences from 1950 to 2020 would improve readability. "
   ]
  },
  {
   "cell_type": "code",
   "execution_count": 14,
   "id": "1cf45836",
   "metadata": {},
   "outputs": [
    {
     "data": {
      "text/plain": [
       "<BarContainer object of 64 artists>"
      ]
     },
     "execution_count": 14,
     "metadata": {},
     "output_type": "execute_result"
    },
    {
     "data": {
      "text/plain": [
       "Text(0.5, 0, 'Year')"
      ]
     },
     "execution_count": 14,
     "metadata": {},
     "output_type": "execute_result"
    },
    {
     "data": {
      "text/plain": [
       "Text(0, 0.5, 'Impacts')"
      ]
     },
     "execution_count": 14,
     "metadata": {},
     "output_type": "execute_result"
    },
    {
     "data": {
      "text/plain": [
       "Text(0.5, 1.0, 'Meteorite Impacts Observations by Year (1950-2020)')"
      ]
     },
     "execution_count": 14,
     "metadata": {},
     "output_type": "execute_result"
    },
    {
     "data": {
      "image/png": "[encoded data removed]",
      "text/plain": [
       "<Figure size 640x480 with 1 Axes>"
      ]
     },
     "metadata": {},
     "output_type": "display_data"
    }
   ],
   "source": [
    "occ2 = occ[occ['year'] >= 1950]\n",
    "occ2 = occ2[occ2['year'] <= 2020]\n",
    "plt.bar(occ2['year'], occ2['impacts'])\n",
    "plt.xlabel('Year');\n",
    "plt.ylabel('Impacts');\n",
    "plt.title('Meteorite Impacts Observations by Year (1950-2020)');\n",
    "plt.savefig(\"impacts_per_year.png\")"
   ]
  },
  {
   "cell_type": "markdown",
   "id": "cb69ea39",
   "metadata": {},
   "source": [
    "This figure displays much more detail than the previous. Because of this visualization, we can see that the bulk of the observations occured between 1975 and 2010. The question is whether these fluctuations appear because of inconsistent monitoring, or simply because meteorites don't fall at any sort of constant rate. For now, I'm going to assume it's a combination of both, and use the years 1975 to 2010 to do further analysis. \n",
    "\n",
    "To start, I'm going to create a new dataframe based on our original data `df`, that only contains entries for years from 1975 to 2010."
   ]
  },
  {
   "cell_type": "code",
   "execution_count": 7,
   "id": "837d17f6",
   "metadata": {},
   "outputs": [
    {
     "data": {
      "text/html": [
       "<div>\n",
       "<style scoped>\n",
       "    .dataframe tbody tr th:only-of-type {\n",
       "        vertical-align: middle;\n",
       "    }\n",
       "\n",
       "    .dataframe tbody tr th {\n",
       "        vertical-align: top;\n",
       "    }\n",
       "\n",
       "    .dataframe thead th {\n",
       "        text-align: right;\n",
       "    }\n",
       "</style>\n",
       "<table border=\"1\" class=\"dataframe\">\n",
       "  <thead>\n",
       "    <tr style=\"text-align: right;\">\n",
       "      <th></th>\n",
       "      <th>name</th>\n",
       "      <th>id</th>\n",
       "      <th>nametype</th>\n",
       "      <th>recclass</th>\n",
       "      <th>mass (g)</th>\n",
       "      <th>fall</th>\n",
       "      <th>year</th>\n",
       "      <th>latitude</th>\n",
       "      <th>longitude</th>\n",
       "      <th>GeoLocation</th>\n",
       "    </tr>\n",
       "  </thead>\n",
       "  <tbody>\n",
       "    <tr>\n",
       "      <th>3</th>\n",
       "      <td>Acapulco</td>\n",
       "      <td>10</td>\n",
       "      <td>Valid</td>\n",
       "      <td>Acapulcoite</td>\n",
       "      <td>1914.0</td>\n",
       "      <td>Fell</td>\n",
       "      <td>1976.0</td>\n",
       "      <td>16.88333</td>\n",
       "      <td>-99.90000</td>\n",
       "      <td>(16.88333, -99.9)</td>\n",
       "    </tr>\n",
       "    <tr>\n",
       "      <th>16</th>\n",
       "      <td>Akyumak</td>\n",
       "      <td>433</td>\n",
       "      <td>Valid</td>\n",
       "      <td>Iron, IVA</td>\n",
       "      <td>50000.0</td>\n",
       "      <td>Fell</td>\n",
       "      <td>1981.0</td>\n",
       "      <td>39.91667</td>\n",
       "      <td>42.81667</td>\n",
       "      <td>(39.91667, 42.81667)</td>\n",
       "    </tr>\n",
       "    <tr>\n",
       "      <th>18</th>\n",
       "      <td>Al Zarnkh</td>\n",
       "      <td>447</td>\n",
       "      <td>Valid</td>\n",
       "      <td>LL5</td>\n",
       "      <td>700.0</td>\n",
       "      <td>Fell</td>\n",
       "      <td>2001.0</td>\n",
       "      <td>13.66033</td>\n",
       "      <td>28.96000</td>\n",
       "      <td>(13.66033, 28.96)</td>\n",
       "    </tr>\n",
       "    <tr>\n",
       "      <th>22</th>\n",
       "      <td>Alby sur Chéran</td>\n",
       "      <td>458</td>\n",
       "      <td>Valid</td>\n",
       "      <td>Eucrite-mmict</td>\n",
       "      <td>252.0</td>\n",
       "      <td>Fell</td>\n",
       "      <td>2002.0</td>\n",
       "      <td>45.82133</td>\n",
       "      <td>6.01533</td>\n",
       "      <td>(45.82133, 6.01533)</td>\n",
       "    </tr>\n",
       "    <tr>\n",
       "      <th>30</th>\n",
       "      <td>Almahata Sitta</td>\n",
       "      <td>48915</td>\n",
       "      <td>Valid</td>\n",
       "      <td>Ureilite-an</td>\n",
       "      <td>3950.0</td>\n",
       "      <td>Fell</td>\n",
       "      <td>2008.0</td>\n",
       "      <td>20.74575</td>\n",
       "      <td>32.41275</td>\n",
       "      <td>(20.74575, 32.41275)</td>\n",
       "    </tr>\n",
       "  </tbody>\n",
       "</table>\n",
       "</div>"
      ],
      "text/plain": [
       "               name     id nametype       recclass  mass (g)  fall    year  \\\n",
       "3          Acapulco     10    Valid    Acapulcoite    1914.0  Fell  1976.0   \n",
       "16          Akyumak    433    Valid      Iron, IVA   50000.0  Fell  1981.0   \n",
       "18        Al Zarnkh    447    Valid            LL5     700.0  Fell  2001.0   \n",
       "22  Alby sur Chéran    458    Valid  Eucrite-mmict     252.0  Fell  2002.0   \n",
       "30   Almahata Sitta  48915    Valid    Ureilite-an    3950.0  Fell  2008.0   \n",
       "\n",
       "    latitude  longitude           GeoLocation  \n",
       "3   16.88333  -99.90000     (16.88333, -99.9)  \n",
       "16  39.91667   42.81667  (39.91667, 42.81667)  \n",
       "18  13.66033   28.96000     (13.66033, 28.96)  \n",
       "22  45.82133    6.01533   (45.82133, 6.01533)  \n",
       "30  20.74575   32.41275  (20.74575, 32.41275)  "
      ]
     },
     "execution_count": 7,
     "metadata": {},
     "output_type": "execute_result"
    }
   ],
   "source": [
    "df2 = df[df['year'] >= 1975];\n",
    "df2 = df2[df2['year'] <= 2010];\n",
    "df2.head()"
   ]
  },
  {
   "cell_type": "markdown",
   "id": "ddd5d6ca",
   "metadata": {},
   "source": [
    "### Examining Specific Characteristics\n",
    "\n",
    "Next, I'd like to start examining specific characteristics of the data. One such characteristic is the mass. What is the most common range for mass of a meteorite, how does weight correlate with meteorite class, etc.\n",
    "\n",
    "One good way to summarize data within specific columns is by using the `pivot_table` function. Pivot tables are useful because they can be used to provide many statistics by calling only one function. "
   ]
  },
  {
   "cell_type": "code",
   "execution_count": 8,
   "id": "55b56dfa",
   "metadata": {},
   "outputs": [
    {
     "data": {
      "text/html": [
       "<div>\n",
       "<style scoped>\n",
       "    .dataframe tbody tr th:only-of-type {\n",
       "        vertical-align: middle;\n",
       "    }\n",
       "\n",
       "    .dataframe tbody tr th {\n",
       "        vertical-align: top;\n",
       "    }\n",
       "\n",
       "    .dataframe thead tr th {\n",
       "        text-align: left;\n",
       "    }\n",
       "\n",
       "    .dataframe thead tr:last-of-type th {\n",
       "        text-align: right;\n",
       "    }\n",
       "</style>\n",
       "<table border=\"1\" class=\"dataframe\">\n",
       "  <thead>\n",
       "    <tr>\n",
       "      <th></th>\n",
       "      <th colspan=\"4\" halign=\"left\">mass (g)</th>\n",
       "    </tr>\n",
       "    <tr>\n",
       "      <th></th>\n",
       "      <th>max</th>\n",
       "      <th>mean</th>\n",
       "      <th>median</th>\n",
       "      <th>min</th>\n",
       "    </tr>\n",
       "    <tr>\n",
       "      <th>recclass</th>\n",
       "      <th></th>\n",
       "      <th></th>\n",
       "      <th></th>\n",
       "      <th></th>\n",
       "    </tr>\n",
       "  </thead>\n",
       "  <tbody>\n",
       "    <tr>\n",
       "      <th>Acapulcoite</th>\n",
       "      <td>7500.00</td>\n",
       "      <td>450.068160</td>\n",
       "      <td>50.625</td>\n",
       "      <td>1.77</td>\n",
       "    </tr>\n",
       "    <tr>\n",
       "      <th>Acapulcoite/Lodranite</th>\n",
       "      <td>64.00</td>\n",
       "      <td>31.793333</td>\n",
       "      <td>29.800</td>\n",
       "      <td>2.70</td>\n",
       "    </tr>\n",
       "    <tr>\n",
       "      <th>Acapulcoite/lodranite</th>\n",
       "      <td>3.50</td>\n",
       "      <td>2.400000</td>\n",
       "      <td>2.400</td>\n",
       "      <td>1.30</td>\n",
       "    </tr>\n",
       "    <tr>\n",
       "      <th>Achondrite-prim</th>\n",
       "      <td>4193.00</td>\n",
       "      <td>1063.125000</td>\n",
       "      <td>671.000</td>\n",
       "      <td>130.00</td>\n",
       "    </tr>\n",
       "    <tr>\n",
       "      <th>Achondrite-ung</th>\n",
       "      <td>12700.00</td>\n",
       "      <td>779.738936</td>\n",
       "      <td>137.000</td>\n",
       "      <td>1.10</td>\n",
       "    </tr>\n",
       "    <tr>\n",
       "      <th>...</th>\n",
       "      <td>...</td>\n",
       "      <td>...</td>\n",
       "      <td>...</td>\n",
       "      <td>...</td>\n",
       "    </tr>\n",
       "    <tr>\n",
       "      <th>Stone-ung</th>\n",
       "      <td>0.63</td>\n",
       "      <td>0.630000</td>\n",
       "      <td>0.630</td>\n",
       "      <td>0.63</td>\n",
       "    </tr>\n",
       "    <tr>\n",
       "      <th>Ureilite</th>\n",
       "      <td>11730.00</td>\n",
       "      <td>452.320916</td>\n",
       "      <td>74.530</td>\n",
       "      <td>0.50</td>\n",
       "    </tr>\n",
       "    <tr>\n",
       "      <th>Ureilite-an</th>\n",
       "      <td>3950.00</td>\n",
       "      <td>1287.125000</td>\n",
       "      <td>597.700</td>\n",
       "      <td>3.10</td>\n",
       "    </tr>\n",
       "    <tr>\n",
       "      <th>Ureilite-pmict</th>\n",
       "      <td>2106.00</td>\n",
       "      <td>230.807727</td>\n",
       "      <td>54.000</td>\n",
       "      <td>2.47</td>\n",
       "    </tr>\n",
       "    <tr>\n",
       "      <th>Winonaite</th>\n",
       "      <td>1001.00</td>\n",
       "      <td>138.816500</td>\n",
       "      <td>41.400</td>\n",
       "      <td>1.50</td>\n",
       "    </tr>\n",
       "  </tbody>\n",
       "</table>\n",
       "<p>424 rows × 4 columns</p>\n",
       "</div>"
      ],
      "text/plain": [
       "                       mass (g)                              \n",
       "                            max         mean   median     min\n",
       "recclass                                                     \n",
       "Acapulcoite             7500.00   450.068160   50.625    1.77\n",
       "Acapulcoite/Lodranite     64.00    31.793333   29.800    2.70\n",
       "Acapulcoite/lodranite      3.50     2.400000    2.400    1.30\n",
       "Achondrite-prim         4193.00  1063.125000  671.000  130.00\n",
       "Achondrite-ung         12700.00   779.738936  137.000    1.10\n",
       "...                         ...          ...      ...     ...\n",
       "Stone-ung                  0.63     0.630000    0.630    0.63\n",
       "Ureilite               11730.00   452.320916   74.530    0.50\n",
       "Ureilite-an             3950.00  1287.125000  597.700    3.10\n",
       "Ureilite-pmict          2106.00   230.807727   54.000    2.47\n",
       "Winonaite               1001.00   138.816500   41.400    1.50\n",
       "\n",
       "[424 rows x 4 columns]"
      ]
     },
     "execution_count": 8,
     "metadata": {},
     "output_type": "execute_result"
    }
   ],
   "source": [
    "pivot = df2.pivot_table(index =['recclass'], values =['mass (g)'], \n",
    "                       aggfunc ={'min', 'max', 'mean', 'median'})\n",
    "pivot"
   ]
  },
  {
   "cell_type": "markdown",
   "id": "e29e2b7f",
   "metadata": {},
   "source": [
    "This data is informative, however, I'd specifically like to know if there is a specific class of meteor that tends to weight the most. To do this, I'll need to isolate the `mean` column."
   ]
  },
  {
   "cell_type": "code",
   "execution_count": 9,
   "id": "803f6e6f",
   "metadata": {},
   "outputs": [
    {
     "data": {
      "text/html": [
       "<div>\n",
       "<style scoped>\n",
       "    .dataframe tbody tr th:only-of-type {\n",
       "        vertical-align: middle;\n",
       "    }\n",
       "\n",
       "    .dataframe tbody tr th {\n",
       "        vertical-align: top;\n",
       "    }\n",
       "\n",
       "    .dataframe thead th {\n",
       "        text-align: right;\n",
       "    }\n",
       "</style>\n",
       "<table border=\"1\" class=\"dataframe\">\n",
       "  <thead>\n",
       "    <tr style=\"text-align: right;\">\n",
       "      <th></th>\n",
       "      <th>mean</th>\n",
       "    </tr>\n",
       "    <tr>\n",
       "      <th>recclass</th>\n",
       "      <th></th>\n",
       "    </tr>\n",
       "  </thead>\n",
       "  <tbody>\n",
       "    <tr>\n",
       "      <th>Iron, IAB complex</th>\n",
       "      <td>195507.940370</td>\n",
       "    </tr>\n",
       "    <tr>\n",
       "      <th>Pallasite, PMG</th>\n",
       "      <td>146016.242857</td>\n",
       "    </tr>\n",
       "    <tr>\n",
       "      <th>CR-an</th>\n",
       "      <td>114000.000000</td>\n",
       "    </tr>\n",
       "    <tr>\n",
       "      <th>Iron, IIIE</th>\n",
       "      <td>100138.500000</td>\n",
       "    </tr>\n",
       "    <tr>\n",
       "      <th>EL6/7</th>\n",
       "      <td>100000.000000</td>\n",
       "    </tr>\n",
       "    <tr>\n",
       "      <th>...</th>\n",
       "      <td>...</td>\n",
       "    </tr>\n",
       "    <tr>\n",
       "      <th>EH</th>\n",
       "      <td>0.590000</td>\n",
       "    </tr>\n",
       "    <tr>\n",
       "      <th>H4(?)</th>\n",
       "      <td>0.400000</td>\n",
       "    </tr>\n",
       "    <tr>\n",
       "      <th>Fusion crust</th>\n",
       "      <td>0.078250</td>\n",
       "    </tr>\n",
       "    <tr>\n",
       "      <th>Relict OC</th>\n",
       "      <td>0.000000</td>\n",
       "    </tr>\n",
       "    <tr>\n",
       "      <th>Relict iron</th>\n",
       "      <td>0.000000</td>\n",
       "    </tr>\n",
       "  </tbody>\n",
       "</table>\n",
       "<p>424 rows × 1 columns</p>\n",
       "</div>"
      ],
      "text/plain": [
       "                            mean\n",
       "recclass                        \n",
       "Iron, IAB complex  195507.940370\n",
       "Pallasite, PMG     146016.242857\n",
       "CR-an              114000.000000\n",
       "Iron, IIIE         100138.500000\n",
       "EL6/7              100000.000000\n",
       "...                          ...\n",
       "EH                      0.590000\n",
       "H4(?)                   0.400000\n",
       "Fusion crust            0.078250\n",
       "Relict OC               0.000000\n",
       "Relict iron             0.000000\n",
       "\n",
       "[424 rows x 1 columns]"
      ]
     },
     "execution_count": 9,
     "metadata": {},
     "output_type": "execute_result"
    }
   ],
   "source": [
    "class_mean = pd.DataFrame(pivot['mass (g)']['mean'])\n",
    "class_mean = class_mean.sort_values('mean', ascending=False)\n",
    "class_mean"
   ]
  },
  {
   "cell_type": "markdown",
   "id": "d4320e68",
   "metadata": {},
   "source": [
    "As we can see, Iron meteorites have the highest average weight of the meteorites in this dataset. "
   ]
  },
  {
   "cell_type": "markdown",
   "id": "254bf19f",
   "metadata": {},
   "source": [
    "### Modeling With `scikit-learn`\n",
    "After cleaning, transforming, and visualizing the data, the next step in a data science project is often to build a predictive model. This involves selecting the appropriate machine learning algorithms, preparing the data for modeling, and evaluating the performance of the model. Scikit-learn is a powerful and user-friendly machine learning library in Python that provides a wide range of tools for building and evaluating models. With scikit-learn, you can train models on subsets of the data and use them to make predictions on new data. To start, I'm going to see if it's possible to train a model that predicts class based on given characteristics. \n",
    "\n",
    "We'll start by splitting our datafram into two new dataframes. One dataframe `X` will contain the information that will be used to predict, and the other dataframe `y` will contain the variables trying to be predicted.\n",
    "\n",
    "Initially, I tried to use Linear Regression to model this, however, Linear Regression is not a suitable model for this task, as the goal is to make a classification model.\n",
    "\n",
    "Before we can create a model, it's important the we do one last bit of cleaning. The NaN values must be removed from the feature (`mass (g)`) that will be used to create the model:"
   ]
  },
  {
   "cell_type": "code",
   "execution_count": 10,
   "id": "9d03814e",
   "metadata": {},
   "outputs": [],
   "source": [
    "# df2 = df2.dropna(subset=['mass (g)'])\n",
    "\n",
    "# le = LabelEncoder()\n",
    "# y = le.fit_transform(df2['recclass'])\n",
    "# X = df2[['mass (g)']]\n",
    "\n",
    "# X_train, X_test, y_train, y_test = train_test_split(X, y, test_size=0.2, random_state=42)\n",
    "\n",
    "# model = LogisticRegression(max_iter=5000)\n",
    "# model.fit(X_train, y_train)"
   ]
  },
  {
   "cell_type": "code",
   "execution_count": 11,
   "id": "371f19e4",
   "metadata": {},
   "outputs": [],
   "source": [
    "# df3 = df2.dropna(subset=['mass (g)'])\n",
    "# df3 = df3.head(300)\n",
    "\n",
    "# le = LabelEncoder()\n",
    "# y = le.fit_transform(df3['recclass'])\n",
    "# X = df3[['mass (g)']]\n",
    "\n",
    "# X_train, X_test, y_train, y_test = train_test_split(X, y, test_size=0.2, random_state=42)\n",
    "\n",
    "# model = LogisticRegression(max_iter=50000)\n",
    "# model.fit(X_train, y_train)"
   ]
  },
  {
   "cell_type": "code",
   "execution_count": 12,
   "id": "c4ad6c12",
   "metadata": {},
   "outputs": [],
   "source": [
    "df3 = df2.dropna(subset=['mass (g)'])\n",
    "\n",
    "# # Split data into features and targets\n",
    "# X = df3['mass (g)'].values.reshape(-1, 1) # reshape to 2D array\n",
    "# y = df3['recclass'].values.ravel()       # reshape to 1D array\n",
    "\n",
    "# # Split data into training and testing datasets\n",
    "# X_train, X_test, y_train, y_test = train_test_split(X, y, test_size=0.5, random_state=42)\n",
    "\n",
    "# # Train an SVM model on the training data\n",
    "# svm = SVC(kernel='linear', C=1)\n",
    "# svm.fit(X_train, y_train)\n",
    "\n",
    "# # Use the trained model to make predictions on the test data\n",
    "# y_pred = svm.predict(X_test)\n",
    "\n",
    "# # Evaluate the accuracy of the model\n",
    "# accuracy = accuracy_score(y_test, y_pred)\n",
    "# print(f\"Accuracy: {accuracy}\")"
   ]
  },
  {
   "cell_type": "code",
   "execution_count": 13,
   "id": "05b91be9",
   "metadata": {},
   "outputs": [
    {
     "data": {
      "text/html": [
       "<style>#sk-container-id-1 {color: black;background-color: white;}#sk-container-id-1 pre{padding: 0;}#sk-container-id-1 div.sk-toggleable {background-color: white;}#sk-container-id-1 label.sk-toggleable__label {cursor: pointer;display: block;width: 100%;margin-bottom: 0;padding: 0.3em;box-sizing: border-box;text-align: center;}#sk-container-id-1 label.sk-toggleable__label-arrow:before {content: \"▸\";float: left;margin-right: 0.25em;color: #696969;}#sk-container-id-1 label.sk-toggleable__label-arrow:hover:before {color: black;}#sk-container-id-1 div.sk-estimator:hover label.sk-toggleable__label-arrow:before {color: black;}#sk-container-id-1 div.sk-toggleable__content {max-height: 0;max-width: 0;overflow: hidden;text-align: left;background-color: #f0f8ff;}#sk-container-id-1 div.sk-toggleable__content pre {margin: 0.2em;color: black;border-radius: 0.25em;background-color: #f0f8ff;}#sk-container-id-1 input.sk-toggleable__control:checked~div.sk-toggleable__content {max-height: 200px;max-width: 100%;overflow: auto;}#sk-container-id-1 input.sk-toggleable__control:checked~label.sk-toggleable__label-arrow:before {content: \"▾\";}#sk-container-id-1 div.sk-estimator input.sk-toggleable__control:checked~label.sk-toggleable__label {background-color: #d4ebff;}#sk-container-id-1 div.sk-label input.sk-toggleable__control:checked~label.sk-toggleable__label {background-color: #d4ebff;}#sk-container-id-1 input.sk-hidden--visually {border: 0;clip: rect(1px 1px 1px 1px);clip: rect(1px, 1px, 1px, 1px);height: 1px;margin: -1px;overflow: hidden;padding: 0;position: absolute;width: 1px;}#sk-container-id-1 div.sk-estimator {font-family: monospace;background-color: #f0f8ff;border: 1px dotted black;border-radius: 0.25em;box-sizing: border-box;margin-bottom: 0.5em;}#sk-container-id-1 div.sk-estimator:hover {background-color: #d4ebff;}#sk-container-id-1 div.sk-parallel-item::after {content: \"\";width: 100%;border-bottom: 1px solid gray;flex-grow: 1;}#sk-container-id-1 div.sk-label:hover label.sk-toggleable__label {background-color: #d4ebff;}#sk-container-id-1 div.sk-serial::before {content: \"\";position: absolute;border-left: 1px solid gray;box-sizing: border-box;top: 0;bottom: 0;left: 50%;z-index: 0;}#sk-container-id-1 div.sk-serial {display: flex;flex-direction: column;align-items: center;background-color: white;padding-right: 0.2em;padding-left: 0.2em;position: relative;}#sk-container-id-1 div.sk-item {position: relative;z-index: 1;}#sk-container-id-1 div.sk-parallel {display: flex;align-items: stretch;justify-content: center;background-color: white;position: relative;}#sk-container-id-1 div.sk-item::before, #sk-container-id-1 div.sk-parallel-item::before {content: \"\";position: absolute;border-left: 1px solid gray;box-sizing: border-box;top: 0;bottom: 0;left: 50%;z-index: -1;}#sk-container-id-1 div.sk-parallel-item {display: flex;flex-direction: column;z-index: 1;position: relative;background-color: white;}#sk-container-id-1 div.sk-parallel-item:first-child::after {align-self: flex-end;width: 50%;}#sk-container-id-1 div.sk-parallel-item:last-child::after {align-self: flex-start;width: 50%;}#sk-container-id-1 div.sk-parallel-item:only-child::after {width: 0;}#sk-container-id-1 div.sk-dashed-wrapped {border: 1px dashed gray;margin: 0 0.4em 0.5em 0.4em;box-sizing: border-box;padding-bottom: 0.4em;background-color: white;}#sk-container-id-1 div.sk-label label {font-family: monospace;font-weight: bold;display: inline-block;line-height: 1.2em;}#sk-container-id-1 div.sk-label-container {text-align: center;}#sk-container-id-1 div.sk-container {/* jupyter's `normalize.less` sets `[hidden] { display: none; }` but bootstrap.min.css set `[hidden] { display: none !important; }` so we also need the `!important` here to be able to override the default hidden behavior on the sphinx rendered scikit-learn.org. See: https://github.com/scikit-learn/scikit-learn/issues/21755 */display: inline-block !important;position: relative;}#sk-container-id-1 div.sk-text-repr-fallback {display: none;}</style><div id=\"sk-container-id-1\" class=\"sk-top-container\"><div class=\"sk-text-repr-fallback\"><pre>DecisionTreeClassifier(max_depth=10, min_samples_split=100, random_state=42)</pre><b>In a Jupyter environment, please rerun this cell to show the HTML representation or trust the notebook. <br />On GitHub, the HTML representation is unable to render, please try loading this page with nbviewer.org.</b></div><div class=\"sk-container\" hidden><div class=\"sk-item\"><div class=\"sk-estimator sk-toggleable\"><input class=\"sk-toggleable__control sk-hidden--visually\" id=\"sk-estimator-id-1\" type=\"checkbox\" checked><label for=\"sk-estimator-id-1\" class=\"sk-toggleable__label sk-toggleable__label-arrow\">DecisionTreeClassifier</label><div class=\"sk-toggleable__content\"><pre>DecisionTreeClassifier(max_depth=10, min_samples_split=100, random_state=42)</pre></div></div></div></div></div>"
      ],
      "text/plain": [
       "DecisionTreeClassifier(max_depth=10, min_samples_split=100, random_state=42)"
      ]
     },
     "execution_count": 13,
     "metadata": {},
     "output_type": "execute_result"
    },
    {
     "name": "stdout",
     "output_type": "stream",
     "text": [
      "Accuracy: 0.18411698174179997\n"
     ]
    }
   ],
   "source": [
    "from sklearn.tree import DecisionTreeClassifier\n",
    "\n",
    "# Split the data into training and testing sets\n",
    "X_train, X_test, y_train, y_test = train_test_split(df3[['mass (g)']], df3['recclass'], test_size=0.3, random_state=42)\n",
    "\n",
    "# Create a decision tree classifier\n",
    "clf = DecisionTreeClassifier(max_depth=10, min_samples_split=100, random_state=42)\n",
    "\n",
    "# Train the classifier on the training data\n",
    "clf.fit(X_train, y_train)\n",
    "\n",
    "# Make predictions on the testing data\n",
    "y_pred = clf.predict(X_test)\n",
    "\n",
    "# Evaluate the accuracy of the model\n",
    "accuracy = accuracy_score(y_test, y_pred)\n",
    "print('Accuracy:', accuracy)"
   ]
  },
  {
   "cell_type": "code",
   "execution_count": null,
   "id": "a6f2239e",
   "metadata": {},
   "outputs": [],
   "source": []
  }
 ],
 "metadata": {
  "kernelspec": {
   "display_name": "Python 3 (ipykernel)",
   "language": "python",
   "name": "python3"
  },
  "language_info": {
   "codemirror_mode": {
    "name": "ipython",
    "version": 3
   },
   "file_extension": ".py",
   "mimetype": "text/x-python",
   "name": "python",
   "nbconvert_exporter": "python",
   "pygments_lexer": "ipython3",
   "version": "3.11.2"
  }
 },
 "nbformat": 4,
 "nbformat_minor": 5
}
